{
 "cells": [
  {
   "cell_type": "code",
   "execution_count": 1,
   "id": "caaa6b91",
   "metadata": {},
   "outputs": [],
   "source": [
    "import pandas as pd"
   ]
  },
  {
   "cell_type": "code",
   "execution_count": 2,
   "id": "0fe147a5",
   "metadata": {},
   "outputs": [],
   "source": [
    "output = open(\"enlaces.sh\", \"w+\")"
   ]
  },
  {
   "cell_type": "code",
   "execution_count": 3,
   "id": "73c3bd84",
   "metadata": {},
   "outputs": [],
   "source": [
    "# Cargamos el CSV con los datos\n",
    "\n",
    "data = pd.read_csv('epublibre.csv')"
   ]
  },
  {
   "cell_type": "code",
   "execution_count": 4,
   "id": "3d01d629",
   "metadata": {},
   "outputs": [],
   "source": [
    "# Filtramos solo los libros que están en Español\n",
    "\n",
    "data_esp = data.loc[(data['Idioma'] == 'Español')]"
   ]
  },
  {
   "cell_type": "code",
   "execution_count": 5,
   "id": "6a35cf65",
   "metadata": {},
   "outputs": [],
   "source": [
    "# Extraemos la fecha de la columna Publicado\n",
    "\n",
    "fecha_raw = data_esp.assign(Fecha=data_esp['Publicado'].str[2:])"
   ]
  },
  {
   "cell_type": "code",
   "execution_count": 6,
   "id": "f58281ac",
   "metadata": {},
   "outputs": [],
   "source": [
    "# Convertimos la nueva columna en formato fecha\n",
    "\n",
    "fecha_raw['Fecha'] = pd.to_datetime(fecha_raw['Fecha'], format='%d-%m-%Y')"
   ]
  },
  {
   "cell_type": "code",
   "execution_count": 7,
   "id": "a3674d2c",
   "metadata": {},
   "outputs": [
    {
     "name": "stdout",
     "output_type": "stream",
     "text": [
      "Introduce la fecha limite (yyyy-mm-dd): 2021-10-20\n"
     ]
    }
   ],
   "source": [
    "# Se pregunta al usuario por la fecha hasta la que hay que llegar\n",
    "\n",
    "fecha_limite = input('Introduce la fecha limite (yyyy-mm-dd): ')"
   ]
  },
  {
   "cell_type": "code",
   "execution_count": 8,
   "id": "682294a9",
   "metadata": {},
   "outputs": [],
   "source": [
    "# Se devuelven los enlaces hasta esa fecha\n",
    "\n",
    "final = fecha_raw.loc[(fecha_raw['Fecha'] >= fecha_limite), [\n",
    "    'Título', 'Autor', 'Enlace(s)', 'Fecha']]\n",
    "\n",
    "final.to_csv('ep2.csv')\n",
    "\n",
    "enlaces_raw = pd.Series.tolist(final['Enlace(s)'])\n",
    "\n",
    "for enlace in enlaces_raw:\n",
    "    if ', ' in enlace:\n",
    "        temp_list = enlace.split(', ')\n",
    "        for temp in temp_list:\n",
    "            output.write('transmission-gtk magnet:?xt=urn:btih:' + temp + '\\n')\n",
    "    else:\n",
    "        output.write('transmission-gtk magnet:?xt=urn:btih:' + enlace + '\\n')\n",
    "\n",
    "output.close()"
   ]
  },
  {
   "cell_type": "code",
   "execution_count": null,
   "id": "7911dd2e",
   "metadata": {},
   "outputs": [],
   "source": []
  }
 ],
 "metadata": {
  "kernelspec": {
   "display_name": "Python 3 (ipykernel)",
   "language": "python",
   "name": "python3"
  },
  "language_info": {
   "codemirror_mode": {
    "name": "ipython",
    "version": 3
   },
   "file_extension": ".py",
   "mimetype": "text/x-python",
   "name": "python",
   "nbconvert_exporter": "python",
   "pygments_lexer": "ipython3",
   "version": "3.8.10"
  }
 },
 "nbformat": 4,
 "nbformat_minor": 5
}
